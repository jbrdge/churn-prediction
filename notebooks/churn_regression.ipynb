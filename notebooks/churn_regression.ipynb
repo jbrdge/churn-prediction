{
 "cells": [
  {
   "cell_type": "markdown",
   "id": "0",
   "metadata": {},
   "source": [
    "## Title: Customer Churn Prediction (MySQL + Logistic Regression)\n",
    "\n",
    "Objective: Train a logistic regression model to predict customer churn, write predicted probabilities back to MySQL, and export a CSV for visualization (e.g., Tableau)."
   ]
  },
  {
   "cell_type": "markdown",
   "id": "1",
   "metadata": {},
   "source": [
    "### 0. Environment & Configuration"
   ]
  },
  {
   "cell_type": "markdown",
   "id": "2",
   "metadata": {},
   "source": [
    "\"Set database credentials in a .env file (not tracked in git). See .env.example for structure.\""
   ]
  },
  {
   "cell_type": "code",
   "execution_count": null,
   "id": "3",
   "metadata": {},
   "outputs": [],
   "source": [
    "from dotenv import load_dotenv\n",
    "load_dotenv(override=True)  # IMPORTANT: allows replacing a previously-set value\n",
    "import os\n",
    "\n",
    "load_dotenv()  # reads .env if present\n",
    "\n",
    "MYSQL_HOST = os.getenv(\"MYSQL_HOST\", \"127.0.0.1\")\n",
    "MYSQL_PORT = int(os.getenv(\"MYSQL_PORT\", \"3306\"))\n",
    "MYSQL_USER = os.getenv(\"MYSQL_USER\", \"root\")\n",
    "MYSQL_PASSWORD = os.getenv(\"MYSQL_PASSWORD\")  # keep secrets out of notebook\n",
    "MYSQL_DB = os.getenv(\"MYSQL_DB\", \"churn_project\")"
   ]
  },
  {
   "cell_type": "code",
   "execution_count": null,
   "id": "4",
   "metadata": {},
   "outputs": [],
   "source": [
    "import pandas as pd\n",
    "import mysql.connector as mc\n",
    "import os\n",
    "from dotenv import load_dotenv\n",
    "\n",
    "load_dotenv(override=True)\n",
    "\n",
    "QUERY = \"\"\"\n",
    "SELECT\n",
    "  customerID AS id,\n",
    "  is_monthly,\n",
    "  auto_pay,\n",
    "  CASE WHEN tenure < 12 THEN 1 ELSE 0 END AS short_tenure,\n",
    "  churn\n",
    "FROM customers_clean;\n",
    "\"\"\"\n",
    "\n",
    "conn = mc.connect(\n",
    "    host=os.getenv(\"MYSQL_HOST\",\"127.0.0.1\"),\n",
    "    port=int(os.getenv(\"MYSQL_PORT\",\"3306\")),\n",
    "    user=os.getenv(\"MYSQL_USER\"),\n",
    "    password=os.getenv(\"MYSQL_PASSWORD\"),\n",
    "    database=os.getenv(\"MYSQL_DB\",\"churn_project\")\n",
    ")\n",
    "df = pd.read_sql(QUERY, conn)\n",
    "conn.close()\n",
    "\n",
    "df.head(10)"
   ]
  },
  {
   "cell_type": "markdown",
   "id": "5",
   "metadata": {},
   "source": [
    "### 1) EDA sanity checks (feat/notebook-eda-sanity)\n",
    "\n",
    "Goal: quick data validation from customers_clean."
   ]
  },
  {
   "cell_type": "code",
   "execution_count": null,
   "id": "6",
   "metadata": {},
   "outputs": [],
   "source": [
    "import pandas as pd, numpy as np\n",
    "\n",
    "print(df.shape)\n",
    "display(df.head(3))\n",
    "\n",
    "# Basic label balance\n",
    "df['churn'].value_counts().rename_axis('label').to_frame('count')\n",
    "df['churn'].value_counts(normalize=True).mul(100).round(2).rename('pct')\n",
    "\n",
    "# Leakage check: make sure target not in features\n",
    "set(df.columns) - {'id','is_monthly','auto_pay','short_tenure','churn'}\n"
   ]
  },
  {
   "cell_type": "markdown",
   "id": "7",
   "metadata": {},
   "source": [
    "### 2) Baseline logistic regression (feat/notebook-baseline-logreg)\n",
    "\n",
    "Goal: simple baseline using the three engineered features you already have."
   ]
  },
  {
   "cell_type": "code",
   "execution_count": null,
   "id": "8",
   "metadata": {},
   "outputs": [],
   "source": [
    "from sklearn.model_selection import train_test_split\n",
    "from sklearn.preprocessing import StandardScaler\n",
    "from sklearn.linear_model import LogisticRegression\n",
    "from sklearn.pipeline import Pipeline\n",
    "from sklearn.metrics import roc_auc_score\n",
    "\n",
    "X = df[['is_monthly','auto_pay','short_tenure']].astype(float)\n",
    "y = df['churn'].astype(int)\n",
    "ids = df['id'].astype(str)\n",
    "\n",
    "X_tr, X_te, y_tr, y_te, id_tr, id_te = train_test_split(\n",
    "    X, y, ids, test_size=0.25, random_state=42, stratify=y\n",
    ")\n",
    "\n",
    "pipe = Pipeline([\n",
    "    ('scaler', StandardScaler(with_mean=False)),\n",
    "    ('logreg', LogisticRegression(max_iter=2000, solver='lbfgs', class_weight=None))\n",
    "]).fit(X_tr, y_tr)\n",
    "\n",
    "p_tr = pipe.predict_proba(X_tr)[:,1]\n",
    "p_te = pipe.predict_proba(X_te)[:,1]\n",
    "\n",
    "print(f\"AUC train: {roc_auc_score(y_tr, p_tr):.3f}\")\n",
    "print(f\"AUC test : {roc_auc_score(y_te, p_te):.3f}\")"
   ]
  },
  {
   "cell_type": "markdown",
   "id": "9",
   "metadata": {},
   "source": [
    "### 3) One-hot encode key categoricals (feat/notebook-onehot-categoricals)\n",
    "\n",
    "Goal: lift performance by adding SQL columns and one-hot in sklearn.\n",
    "\n",
    "First, adjust the SQL query to include these (already in customers_clean):\n",
    "\n",
    "Contract, PaymentMethod, gender, age_group, tenure (numeric), MonthlyCharges (numeric)"
   ]
  },
  {
   "cell_type": "code",
   "execution_count": null,
   "id": "10",
   "metadata": {},
   "outputs": [],
   "source": [
    "QUERY_PLUS = \"\"\"\n",
    "SELECT\n",
    "  customerID AS id,\n",
    "  is_monthly, auto_pay,\n",
    "  CASE WHEN tenure < 12 THEN 1 ELSE 0 END AS short_tenure,\n",
    "  Contract, PaymentMethod, gender, age_group,\n",
    "  tenure, MonthlyCharges,\n",
    "  churn\n",
    "FROM customers_clean;\n",
    "\"\"\"\n",
    "conn = mc.connect(\n",
    "    host=os.getenv(\"MYSQL_HOST\"), port=int(os.getenv(\"MYSQL_PORT\")),\n",
    "    user=os.getenv(\"MYSQL_USER\"), password=os.getenv(\"MYSQL_PASSWORD\"),\n",
    "    database=os.getenv(\"MYSQL_DB\")\n",
    ")\n",
    "df2 = pd.read_sql(QUERY_PLUS, conn); conn.close()"
   ]
  },
  {
   "cell_type": "markdown",
   "id": "11",
   "metadata": {},
   "source": [
    "Fit with ColumnTransformer:"
   ]
  },
  {
   "cell_type": "code",
   "execution_count": null,
   "id": "12",
   "metadata": {},
   "outputs": [],
   "source": [
    "from sklearn.compose import ColumnTransformer\n",
    "from sklearn.preprocessing import OneHotEncoder\n",
    "\n",
    "num_cols = ['tenure','MonthlyCharges']\n",
    "bin_cols = ['is_monthly','auto_pay','short_tenure']\n",
    "cat_cols = ['Contract','PaymentMethod','gender','age_group']\n",
    "\n",
    "X = df2[bin_cols + num_cols + cat_cols].copy()\n",
    "y = df2['churn'].astype(int)\n",
    "ids = df2['id'].astype(str)\n",
    "\n",
    "X_tr, X_te, y_tr, y_te, id_tr, id_te = train_test_split(\n",
    "    X, y, ids, test_size=0.25, random_state=42, stratify=y\n",
    ")\n",
    "\n",
    "pre = ColumnTransformer(\n",
    "    transformers=[\n",
    "        ('num', 'passthrough', num_cols),\n",
    "        ('bin', 'passthrough', bin_cols),\n",
    "        ('cat', OneHotEncoder(handle_unknown='ignore', drop=None), cat_cols)\n",
    "    ]\n",
    ")\n",
    "pipe2 = Pipeline([\n",
    "    ('prep', pre),\n",
    "    ('logreg', LogisticRegression(max_iter=5000, solver='lbfgs'))\n",
    "]).fit(X_tr, y_tr)\n",
    "\n",
    "from sklearn.metrics import roc_auc_score\n",
    "p_tr = pipe2.predict_proba(X_tr)[:,1]\n",
    "p_te = pipe2.predict_proba(X_te)[:,1]\n",
    "print(f\"AUC train: {roc_auc_score(y_tr, p_tr):.3f}\")\n",
    "print(f\"AUC test : {roc_auc_score(y_te, p_te):.3f}\")"
   ]
  },
  {
   "cell_type": "code",
   "execution_count": null,
   "id": "13",
   "metadata": {},
   "outputs": [],
   "source": []
  }
 ],
 "metadata": {
  "kernelspec": {
   "display_name": "Python (churn-wsl)",
   "language": "python",
   "name": "churn-wsl"
  },
  "language_info": {
   "codemirror_mode": {
    "name": "ipython",
    "version": 3
   },
   "file_extension": ".py",
   "mimetype": "text/x-python",
   "name": "python",
   "nbconvert_exporter": "python",
   "pygments_lexer": "ipython3",
   "version": "3.12.11"
  }
 },
 "nbformat": 4,
 "nbformat_minor": 5
}
