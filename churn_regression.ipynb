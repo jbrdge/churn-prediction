{
 "cells": [
  {
   "cell_type": "markdown",
   "id": "df553a46",
   "metadata": {},
   "source": [
    "## Title: Customer Churn Prediction (MySQL + Logistic Regression)\n",
    "\n",
    "Objective: Train a logistic regression model to predict customer churn, write predicted probabilities back to MySQL, and export a CSV for visualization (e.g., Tableau)."
   ]
  },
  {
   "cell_type": "markdown",
   "id": "411157a0",
   "metadata": {},
   "source": [
    "### 0. Environment & Configuration"
   ]
  },
  {
   "cell_type": "markdown",
   "id": "e7840a31",
   "metadata": {},
   "source": [
    "\"Set database credentials in a .env file (not tracked in git). See .env.example for structure.\""
   ]
  },
  {
   "cell_type": "code",
   "execution_count": 7,
   "id": "0490991c",
   "metadata": {},
   "outputs": [],
   "source": [
    "from dotenv import load_dotenv\n",
    "import os\n",
    "\n",
    "# Load environment variables from .env if present\n",
    "load_dotenv()\n",
    "\n",
    "MYSQL_HOST = os.getenv(\"MYSQL_HOST\", \"127.0.0.1\")\n",
    "MYSQL_PORT = int(os.getenv(\"MYSQL_PORT\", \"3306\"))\n",
    "MYSQL_USER = os.getenv(\"MYSQL_USER\", \"root\")\n",
    "MYSQL_PASSWORD = os.getenv(\"MYSQL_PASSWORD\", None)  # keep out of notebook\n",
    "MYSQL_DB = os.getenv(\"MYSQL_DB\", \"churn_project\")"
   ]
  },
  {
   "cell_type": "code",
   "execution_count": null,
   "id": "942eed21",
   "metadata": {},
   "outputs": [],
   "source": []
  }
 ],
 "metadata": {
  "kernelspec": {
   "display_name": "Python (churn-wsl)",
   "language": "python",
   "name": "churn-wsl"
  },
  "language_info": {
   "codemirror_mode": {
    "name": "ipython",
    "version": 3
   },
   "file_extension": ".py",
   "mimetype": "text/x-python",
   "name": "python",
   "nbconvert_exporter": "python",
   "pygments_lexer": "ipython3",
   "version": "3.12.11"
  }
 },
 "nbformat": 4,
 "nbformat_minor": 5
}
